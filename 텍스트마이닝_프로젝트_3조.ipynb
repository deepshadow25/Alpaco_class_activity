{
  "nbformat": 4,
  "nbformat_minor": 0,
  "metadata": {
    "colab": {
      "provenance": [],
      "toc_visible": true,
      "include_colab_link": true
    },
    "kernelspec": {
      "name": "python3",
      "display_name": "Python 3"
    },
    "language_info": {
      "name": "python"
    }
  },
  "cells": [
    {
      "cell_type": "markdown",
      "metadata": {
        "id": "view-in-github",
        "colab_type": "text"
      },
      "source": [
        "<a href=\"https://colab.research.google.com/github/deepshadow25/colab_class_activity/blob/main/%ED%85%8D%EC%8A%A4%ED%8A%B8%EB%A7%88%EC%9D%B4%EB%8B%9D_%ED%94%84%EB%A1%9C%EC%A0%9D%ED%8A%B8_3%EC%A1%B0.ipynb\" target=\"_parent\"><img src=\"https://colab.research.google.com/assets/colab-badge.svg\" alt=\"Open In Colab\"/></a>"
      ]
    },
    {
      "cell_type": "markdown",
      "source": [
        "# 개요\n",
        "\n",
        "멜론, 벅스, 지니의 시대별 히트곡 가사로 분류한다.\n",
        "\n",
        "### 진행 순서\n",
        "\n",
        "1. 크롤링\n",
        "2. 전처리\n",
        "\n",
        "### 타임테이블\n",
        "\n",
        "https://timetr.ee/s/i48rvoYnhUOfgLkrswFhKFijqdVi8vVA"
      ],
      "metadata": {
        "id": "r5DxUnDuAOwo"
      }
    },
    {
      "cell_type": "markdown",
      "source": [
        "# 크롤링"
      ],
      "metadata": {
        "id": "sQgwGwcaAkyZ"
      }
    }
  ]
}