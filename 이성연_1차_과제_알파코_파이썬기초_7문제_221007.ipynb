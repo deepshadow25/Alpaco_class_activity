{
  "cells": [
    {
      "cell_type": "markdown",
      "metadata": {
        "id": "view-in-github",
        "colab_type": "text"
      },
      "source": [
        "<a href=\"https://colab.research.google.com/github/deepshadow25/colab_class_activity/blob/main/%EC%9D%B4%EC%84%B1%EC%97%B0_1%EC%B0%A8_%EA%B3%BC%EC%A0%9C_%EC%95%8C%ED%8C%8C%EC%BD%94_%ED%8C%8C%EC%9D%B4%EC%8D%AC%EA%B8%B0%EC%B4%88_7%EB%AC%B8%EC%A0%9C_221007.ipynb\" target=\"_parent\"><img src=\"https://colab.research.google.com/assets/colab-badge.svg\" alt=\"Open In Colab\"/></a>"
      ]
    },
    {
      "cell_type": "markdown",
      "id": "43e39d6e",
      "metadata": {
        "id": "43e39d6e"
      },
      "source": [
        "### 문제 1\n",
        "책 값, 할인율, 배송료를 입력 받아 책의 결제 금액을 계산하는 프로그램을 만들어보세요.  \n",
        "(결제금액 : 책 값 - (책값 X (할인율/100)) + 배송료)"
      ]
    },
    {
      "cell_type": "code",
      "source": [
        "b=int(input(\"책의 가격을 입력해주세요(원) : \" )) # 책값(원)\n",
        "r=int(input(\"할인율을 입력해주세요(%) : \"  ))    # 할인율(%)\n",
        "d=int(input(\"배송비를 입력해주세요(원) : \" ))    # 배송비(원) \n",
        "\n",
        "if r<0 or r>100:\n",
        "    raise ValueError\n",
        "if b<0 or d<0:\n",
        "    raise ValueError\n",
        "\n",
        "p = b - (b*(r/100))+d # 결제금액(원)\n",
        "print(\"결제금액 : {0}원\".format(int(p)))"
      ],
      "metadata": {
        "id": "iAHl_71u8tCY",
        "colab": {
          "base_uri": "https://localhost:8080/"
        },
        "outputId": "330670c1-bf4d-4195-b791-c753719eb769"
      },
      "id": "iAHl_71u8tCY",
      "execution_count": null,
      "outputs": [
        {
          "output_type": "stream",
          "name": "stdout",
          "text": [
            "책의 가격을 입력해주세요(원) : 20000\n",
            "할인율을 입력해주세요(%) : 20\n",
            "배송비를 입력해주세요(원) : 2000\n",
            "결제금액 : 18000원\n"
          ]
        }
      ]
    },
    {
      "cell_type": "markdown",
      "id": "de9d656c",
      "metadata": {
        "id": "de9d656c"
      },
      "source": [
        "20### 문제 2\n",
        "\n",
        "일주일간 일한 시간에 따라 주급을 계산하는 프로그램을 만들어보세요.  \n",
        "(단 시급은 12,000원이며, 40시간을 초과한 시간에 대해서는 오버타임을 적용하여 시급의 1.5배로 계산합니다.)"
      ]
    },
    {
      "cell_type": "code",
      "source": [
        "h = 12000 # h = 시급(원), t=근로시간(단위 : 시간), w = 주급(원)\n",
        "#1주일당 최대 일하는 시간 60시간으로 제한하고 프로그램을 제작.\n",
        "\n",
        "t = int(input(\"이번주에 일한 시간을 입력하세요(최대 60시간) : \"))\n",
        "\n",
        "if 0<t<=40:\n",
        "    w=h*t\n",
        "elif 40<t<=60:\n",
        "    w=1.5*h*(t-40)+h*40\n",
        "elif t==0:\n",
        "    w=0\n",
        "else:\n",
        "    raise ValueError\n",
        "print(w)"
      ],
      "metadata": {
        "id": "eplK0F0x8tqi",
        "colab": {
          "base_uri": "https://localhost:8080/"
        },
        "outputId": "2de87db4-4281-4581-9509-c56fa79aa3dc"
      },
      "id": "eplK0F0x8tqi",
      "execution_count": null,
      "outputs": [
        {
          "output_type": "stream",
          "name": "stdout",
          "text": [
            "이번주에 일한 시간을 입력하세요(최대 60시간) : 42\n",
            "516000.0\n"
          ]
        }
      ]
    },
    {
      "cell_type": "markdown",
      "id": "451ad5ff",
      "metadata": {
        "id": "451ad5ff"
      },
      "source": [
        "### 문제 3\n",
        "while문을 사용하여 1~1000까지 3의 배수의 합을 구해보세요."
      ]
    },
    {
      "cell_type": "code",
      "source": [
        "n=0\n",
        "m=0\n",
        "while n <= 1000:\n",
        "    n += 1\n",
        "    if n % 3 == 0:\n",
        "      m = m + n\n",
        "print(m)"
      ],
      "metadata": {
        "id": "nZFuvWGq8uIm",
        "colab": {
          "base_uri": "https://localhost:8080/"
        },
        "outputId": "72b1394c-c917-4487-9b89-7cbe10e42c71"
      },
      "id": "nZFuvWGq8uIm",
      "execution_count": null,
      "outputs": [
        {
          "output_type": "stream",
          "name": "stdout",
          "text": [
            "166833\n"
          ]
        }
      ]
    },
    {
      "cell_type": "markdown",
      "id": "1b362cdd",
      "metadata": {
        "id": "1b362cdd"
      },
      "source": [
        "### 문제 4\n",
        "리스트 file_names에서 for문을 사용하여 실행 결과에서와 같이 파일명과 확장자를 분리하는 프로그램을 만들어보세요.  \n",
        "file_names = ['file1.py', 'file2.txt', 'file3.pptx', 'file4.doc']"
      ]
    },
    {
      "cell_type": "code",
      "source": [
        "file_names = ['file1.py', 'file2.txt', 'file3.pptx', 'file4.doc'] \n",
        "fn = file_names\n",
        "for k in range(len(fn)+1):\n",
        "    while k:\n",
        "        k = k - 1\n",
        "        print(fn[k].split('.'))\n",
        "        if k < len(fn):\n",
        "            break"
      ],
      "metadata": {
        "id": "25tPFLzM8uxe",
        "colab": {
          "base_uri": "https://localhost:8080/"
        },
        "outputId": "fcfc96f5-98c7-40c1-aae4-6d0cb8078e8f"
      },
      "id": "25tPFLzM8uxe",
      "execution_count": null,
      "outputs": [
        {
          "output_type": "stream",
          "name": "stdout",
          "text": [
            "['file1', 'py']\n",
            "['file2', 'txt']\n",
            "['file3', 'pptx']\n",
            "['file4', 'doc']\n"
          ]
        }
      ]
    },
    {
      "cell_type": "markdown",
      "id": "0eb04d41",
      "metadata": {
        "id": "0eb04d41"
      },
      "source": [
        "### 문제 5\n",
        "딕셔너리 temp에서 최저 기온인 요일과, 최고 기온인 요일을 출력하는 프로그램을 만들어보세요.\n",
        "* temp = {'월' : 17.5, \"화\" : 21, \"수\" : 21.7, \"목\" : 24.3, \"금\" : 31, \"토\" : 27.7, \"일\" : 18.3}"
      ]
    },
    {
      "cell_type": "code",
      "source": [
        "temp={'월' : 17.5, \"화\" : 21, \"수\" : 21.7, \"목\" : 24.3, \"금\" : 31, \"토\" : 27.7, \"일\" : 18.3}\n",
        "Max = [i for i, j in temp.items() if max(temp.values()) == j]\n",
        "Min = [m for m, n in temp.items() if min(temp.values()) == n]\n",
        "print(\"최고 기온인 요일 : {} 요일 \".format(Max))\n",
        "print(\"최저 기온인 요일 : {} 요일 \".format(Min))"
      ],
      "metadata": {
        "id": "e9hmrHiE8vKn",
        "colab": {
          "base_uri": "https://localhost:8080/"
        },
        "outputId": "028fd7f7-2947-49c0-da69-f39510c52ef2"
      },
      "id": "e9hmrHiE8vKn",
      "execution_count": null,
      "outputs": [
        {
          "output_type": "stream",
          "name": "stdout",
          "text": [
            "최고 기온인 요일 : ['금'] 요일 \n",
            "최저 기온인 요일 : ['월'] 요일 \n"
          ]
        }
      ]
    },
    {
      "cell_type": "markdown",
      "id": "125b5ec0",
      "metadata": {
        "id": "125b5ec0"
      },
      "source": [
        "### 문제 6\n",
        "팩토리얼 함수, n값을 입력하면, n!을 반환하는 함수를 만들어보세요.  \n",
        "(팩토리얼이란 기호로 간단하게 n!로 나타내며 1부터 n까지의 자연수를 모두 곱하는 것을 의미한다.)"
      ]
    },
    {
      "cell_type": "code",
      "source": [
        "def fac(n):\n",
        "    if n<0:\n",
        "        raise ValueError # 음의 팩토리얼을 정의할 수 없음.\n",
        "    elif n>1:\n",
        "        return n*fac(n-1)\n",
        "    else:\n",
        "        return 1 # 0! = 1, 1! = 1\n",
        "\n",
        "n=int(input(\"팩토리얼을 구할 수를 입력하세요 : \"))\n",
        "\n",
        "print(fac(n))"
      ],
      "metadata": {
        "id": "rUSTqg8S8vxK",
        "colab": {
          "base_uri": "https://localhost:8080/"
        },
        "outputId": "57606dfa-9aa0-489b-a1e1-a06cc4447c05"
      },
      "id": "rUSTqg8S8vxK",
      "execution_count": null,
      "outputs": [
        {
          "output_type": "stream",
          "name": "stdout",
          "text": [
            "팩토리얼을 구할 수를 입력하세요 : 6\n",
            "720\n"
          ]
        }
      ]
    },
    {
      "cell_type": "markdown",
      "id": "5767077d",
      "metadata": {
        "id": "5767077d"
      },
      "source": [
        "### 문제 7\n",
        "n값을 입력하면, n값에 맞게 \"안녕\"을 출력하는 프로그램을 만들어보세요.  \n",
        "(ex. n값이 5면 \"안녕안녕안\", n값이 4이면 \"안녕안녕\")"
      ]
    },
    {
      "cell_type": "code",
      "source": [
        "n = int(input(\"n값을 입력하세요 : \"))\n",
        "\n",
        "if n<=0:\n",
        "    raise ValueError\n",
        "elif (n % 2) == 0:\n",
        "    print(\"안녕\" * (n//2))\n",
        "else:\n",
        "    print((\"안녕\" * ((n-1)//2)) + \"안\")"
      ],
      "metadata": {
        "id": "dE_6dASS8wNw",
        "colab": {
          "base_uri": "https://localhost:8080/"
        },
        "outputId": "9d2b8377-af9c-426f-92bf-b028a63a4cd4"
      },
      "id": "dE_6dASS8wNw",
      "execution_count": null,
      "outputs": [
        {
          "output_type": "stream",
          "name": "stdout",
          "text": [
            "n값을 입력하세요 : 9\n",
            "안녕안녕안녕안녕안\n"
          ]
        }
      ]
    }
  ],
  "metadata": {
    "kernelspec": {
      "display_name": "Python 3 (ipykernel)",
      "language": "python",
      "name": "python3"
    },
    "language_info": {
      "codemirror_mode": {
        "name": "ipython",
        "version": 3
      },
      "file_extension": ".py",
      "mimetype": "text/x-python",
      "name": "python",
      "nbconvert_exporter": "python",
      "pygments_lexer": "ipython3",
      "version": "3.9.7"
    },
    "colab": {
      "provenance": [],
      "collapsed_sections": [],
      "include_colab_link": true
    }
  },
  "nbformat": 4,
  "nbformat_minor": 5
}