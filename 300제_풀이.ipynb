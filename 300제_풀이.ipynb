{
  "nbformat": 4,
  "nbformat_minor": 0,
  "metadata": {
    "colab": {
      "provenance": [],
      "collapsed_sections": [],
      "authorship_tag": "ABX9TyONN70yK/8R/3ZTdOlkSNBO",
      "include_colab_link": true
    },
    "kernelspec": {
      "name": "python3",
      "display_name": "Python 3"
    },
    "language_info": {
      "name": "python"
    }
  },
  "cells": [
    {
      "cell_type": "markdown",
      "metadata": {
        "id": "view-in-github",
        "colab_type": "text"
      },
      "source": [
        "<a href=\"https://colab.research.google.com/github/deepshadow25/colab_class_activity/blob/main/300%EC%A0%9C_%ED%92%80%EC%9D%B4.ipynb\" target=\"_parent\"><img src=\"https://colab.research.google.com/assets/colab-badge.svg\" alt=\"Open In Colab\"/></a>"
      ]
    },
    {
      "cell_type": "markdown",
      "source": [
        "23"
      ],
      "metadata": {
        "id": "Gi2e1IaAn1Vh"
      }
    },
    {
      "cell_type": "code",
      "source": [
        "string = '홀짝홀짝홀짝'\n",
        "string[0:5:2] \n",
        "#[a:b:c] 미지정시 기본값 a-0(첫인덱스), b-끝인덱스, c-1(1개씩 건넘)\n",
        "## [::-1] : 마지막 인덱스부터, 역순정렬의 의미"
      ],
      "metadata": {
        "colab": {
          "base_uri": "https://localhost:8080/",
          "height": 35
        },
        "id": "7htsw--xloOM",
        "outputId": "1ab0b1d9-dcd0-435d-ce90-ba299a866031"
      },
      "execution_count": null,
      "outputs": [
        {
          "output_type": "execute_result",
          "data": {
            "text/plain": [
              "'홀홀홀'"
            ],
            "application/vnd.google.colaboratory.intrinsic+json": {
              "type": "string"
            }
          },
          "metadata": {},
          "execution_count": 11
        }
      ]
    },
    {
      "cell_type": "code",
      "source": [
        "string = 'python'\n",
        "string = string.upper()\n",
        "string = string[::-1]\n",
        "string\n",
        "\n",
        "# 변수 지정을 해야 함. (string = string.upper() 와 같이)"
      ],
      "metadata": {
        "colab": {
          "base_uri": "https://localhost:8080/",
          "height": 35
        },
        "id": "fRr8Dj4TwWCP",
        "outputId": "01bffaee-463c-4280-b853-caac3d2d244c"
      },
      "execution_count": null,
      "outputs": [
        {
          "output_type": "execute_result",
          "data": {
            "text/plain": [
              "'NOHTYP'"
            ],
            "application/vnd.google.colaboratory.intrinsic+json": {
              "type": "string"
            }
          },
          "metadata": {},
          "execution_count": 45
        }
      ]
    },
    {
      "cell_type": "markdown",
      "source": [
        "25"
      ],
      "metadata": {
        "id": "CDdP92veoudp"
      }
    },
    {
      "cell_type": "code",
      "source": [
        "phone_number = '010-1111-2222'\n",
        "phone_number.replace('-', ' ')\n",
        "phone_number.split('-')\n",
        "\n",
        "# split\n",
        "# replace"
      ],
      "metadata": {
        "colab": {
          "base_uri": "https://localhost:8080/",
          "height": 35
        },
        "id": "g6By5VjTl2bx",
        "outputId": "b222de61-6d12-4f0c-cefe-d794adb48633"
      },
      "execution_count": null,
      "outputs": [
        {
          "output_type": "execute_result",
          "data": {
            "text/plain": [
              "'010-1111-2222'"
            ],
            "application/vnd.google.colaboratory.intrinsic+json": {
              "type": "string"
            }
          },
          "metadata": {},
          "execution_count": 24
        }
      ]
    },
    {
      "cell_type": "markdown",
      "source": [
        "27"
      ],
      "metadata": {
        "id": "TFZFvki0pyxm"
      }
    },
    {
      "cell_type": "code",
      "source": [
        "url = \"http://sharebook.kr\"\n",
        "url.rsplit('.')[1]\n",
        "\n",
        "# lsplit, rsplit"
      ],
      "metadata": {
        "colab": {
          "base_uri": "https://localhost:8080/",
          "height": 35
        },
        "id": "RZ2eAa83oU_p",
        "outputId": "c0f72ecc-6cd2-413b-b580-1dfe69fb0d63"
      },
      "execution_count": null,
      "outputs": [
        {
          "output_type": "execute_result",
          "data": {
            "text/plain": [
              "'kr'"
            ],
            "application/vnd.google.colaboratory.intrinsic+json": {
              "type": "string"
            }
          },
          "metadata": {},
          "execution_count": 28
        }
      ]
    },
    {
      "cell_type": "code",
      "source": [
        "string = 'abcdfe2a354a32a'\n",
        "string.replace('a',\"A\")"
      ],
      "metadata": {
        "colab": {
          "base_uri": "https://localhost:8080/",
          "height": 35
        },
        "id": "AuPhmsWcpoLa",
        "outputId": "c59dedfe-d0ac-48bd-edc9-f0946efc764a"
      },
      "execution_count": null,
      "outputs": [
        {
          "output_type": "execute_result",
          "data": {
            "text/plain": [
              "'Abcdfe2A354A32A'"
            ],
            "application/vnd.google.colaboratory.intrinsic+json": {
              "type": "string"
            }
          },
          "metadata": {},
          "execution_count": 33
        }
      ]
    },
    {
      "cell_type": "markdown",
      "source": [
        "31"
      ],
      "metadata": {
        "id": "fJGCKDbPsfQ7"
      }
    },
    {
      "cell_type": "code",
      "source": [
        "a='3'\n",
        "b='4'\n",
        "print(a+b)"
      ],
      "metadata": {
        "colab": {
          "base_uri": "https://localhost:8080/"
        },
        "id": "KZOEdEqlqXI2",
        "outputId": "81050137-88a9-41cb-e699-e0ef13065ffd"
      },
      "execution_count": null,
      "outputs": [
        {
          "output_type": "stream",
          "name": "stdout",
          "text": [
            "34\n"
          ]
        }
      ]
    },
    {
      "cell_type": "markdown",
      "source": [
        "35"
      ],
      "metadata": {
        "id": "tzNMgmu2srik"
      }
    },
    {
      "cell_type": "code",
      "source": [
        "name1 = \"김민수\" \n",
        "age1 = 10\n",
        "name2 = \"이철희\"\n",
        "age2 = 13\n",
        "\n",
        "print(\"이름: %s 나이: %s\" % (name1, age1))\n",
        "print('이름: %s 나이: %s' % (name2, age2))\n",
        "\n",
        "# {}.format의 old한 방식."
      ],
      "metadata": {
        "colab": {
          "base_uri": "https://localhost:8080/"
        },
        "id": "GCB-qNm0qgbt",
        "outputId": "6f01c4e8-ec5d-47e6-dbc7-b41ebd1ee2bf"
      },
      "execution_count": null,
      "outputs": [
        {
          "output_type": "stream",
          "name": "stdout",
          "text": [
            "이름: 김민수 나이: 10\n",
            "이름: 이철희 나이: 13\n"
          ]
        }
      ]
    },
    {
      "cell_type": "code",
      "source": [
        "name1 = \"김민수\" \n",
        "age1 = 10\n",
        "name2 = \"이철희\"\n",
        "age2 = 13\n",
        "\n",
        "print(f\"이름: {name1} 나이: {age1}\")\n",
        "print(f'이름: {name2} 나이: {age2}')\n",
        "# f-string : python 3.6 이상 버전부터 지원하는 formatting 방식"
      ],
      "metadata": {
        "colab": {
          "base_uri": "https://localhost:8080/"
        },
        "id": "QIykLgoks6dd",
        "outputId": "a2d9a98b-36bd-4cbe-a525-87a1425b5477"
      },
      "execution_count": null,
      "outputs": [
        {
          "output_type": "stream",
          "name": "stdout",
          "text": [
            "이름: 김민수 나이: 10\n",
            "이름: 이철희 나이: 13\n"
          ]
        }
      ]
    },
    {
      "cell_type": "code",
      "source": [
        "data = \"   삼성전자    \"\n",
        "data.strip(' ')\n",
        "#strip (좌우 공백제거)"
      ],
      "metadata": {
        "colab": {
          "base_uri": "https://localhost:8080/",
          "height": 35
        },
        "id": "YNYStZiKvYvr",
        "outputId": "a47218dd-94f6-4e35-86fc-d225b9186333"
      },
      "execution_count": null,
      "outputs": [
        {
          "output_type": "execute_result",
          "data": {
            "text/plain": [
              "'삼성전자'"
            ],
            "application/vnd.google.colaboratory.intrinsic+json": {
              "type": "string"
            }
          },
          "metadata": {},
          "execution_count": 42
        }
      ]
    },
    {
      "cell_type": "code",
      "source": [
        "'hello'.capitalize()"
      ],
      "metadata": {
        "colab": {
          "base_uri": "https://localhost:8080/",
          "height": 35
        },
        "id": "NSVddbqbwHrI",
        "outputId": "223c29da-7f39-4ce8-8349-c0c35b3e04e4"
      },
      "execution_count": null,
      "outputs": [
        {
          "output_type": "execute_result",
          "data": {
            "text/plain": [
              "'Hello'"
            ],
            "application/vnd.google.colaboratory.intrinsic+json": {
              "type": "string"
            }
          },
          "metadata": {},
          "execution_count": 48
        }
      ]
    },
    {
      "cell_type": "code",
      "source": [
        "'보고서.xlsx'.endswith('xls')"
      ],
      "metadata": {
        "colab": {
          "base_uri": "https://localhost:8080/"
        },
        "id": "EXb0_tYXwr6H",
        "outputId": "52c44610-64f7-4b36-bec5-dd39fc22a9d2"
      },
      "execution_count": null,
      "outputs": [
        {
          "output_type": "execute_result",
          "data": {
            "text/plain": [
              "False"
            ]
          },
          "metadata": {},
          "execution_count": 51
        }
      ]
    },
    {
      "cell_type": "code",
      "source": [
        "'2020_보고서_xlsx'.startswith('202')"
      ],
      "metadata": {
        "colab": {
          "base_uri": "https://localhost:8080/"
        },
        "id": "ueXQMgORw6Fp",
        "outputId": "24b48c13-f761-4bf1-ae6b-34f812cf6a77"
      },
      "execution_count": null,
      "outputs": [
        {
          "output_type": "execute_result",
          "data": {
            "text/plain": [
              "True"
            ]
          },
          "metadata": {},
          "execution_count": 52
        }
      ]
    },
    {
      "cell_type": "markdown",
      "source": [
        "51-64"
      ],
      "metadata": {
        "id": "TWi4LcFjxXcN"
      }
    },
    {
      "cell_type": "markdown",
      "source": [
        "65"
      ],
      "metadata": {
        "id": "Q02Zn7qCNdg9"
      }
    },
    {
      "cell_type": "code",
      "source": [
        "interest = ['삼성전자', 'LG전자', 'Naver']\n",
        "interest[::2]"
      ],
      "metadata": {
        "colab": {
          "base_uri": "https://localhost:8080/"
        },
        "id": "CUm_ZH0axIUu",
        "outputId": "1eda99ba-db16-4437-e3cf-e33737bfdd55"
      },
      "execution_count": null,
      "outputs": [
        {
          "output_type": "execute_result",
          "data": {
            "text/plain": [
              "['삼성전자', 'Naver']"
            ]
          },
          "metadata": {},
          "execution_count": 55
        }
      ]
    },
    {
      "cell_type": "markdown",
      "source": [
        "66-68 join"
      ],
      "metadata": {
        "id": "O7pKIcbVNesS"
      }
    },
    {
      "cell_type": "code",
      "source": [
        "interest = ['삼성전자', 'LG전자', 'Naver', 'SK하이닉스', '미래에셋대우']\n",
        "join=\"/\",interest"
      ],
      "metadata": {
        "id": "Wkl4-aZfNYH8"
      },
      "execution_count": null,
      "outputs": []
    },
    {
      "cell_type": "code",
      "source": [
        "string = '삼성전자/LG전자/Naver'\n",
        "string.split('/')"
      ],
      "metadata": {
        "colab": {
          "base_uri": "https://localhost:8080/"
        },
        "id": "7gVJFBceNt01",
        "outputId": "3e232984-a4dd-4a7b-dbe7-b40c9ff1a47d"
      },
      "execution_count": null,
      "outputs": [
        {
          "output_type": "execute_result",
          "data": {
            "text/plain": [
              "['삼성전자', 'LG전자', 'Naver']"
            ]
          },
          "metadata": {},
          "execution_count": 70
        }
      ]
    },
    {
      "cell_type": "code",
      "source": [
        "data = [2, 4, 3, 1, 5, 10, 9]\n",
        "data.sort()\n",
        "data= data[::-1]\n",
        "data"
      ],
      "metadata": {
        "colab": {
          "base_uri": "https://localhost:8080/"
        },
        "id": "SNYXpWckOypQ",
        "outputId": "6a621c73-6547-4186-e687-ed607a2b7a0f"
      },
      "execution_count": null,
      "outputs": [
        {
          "output_type": "execute_result",
          "data": {
            "text/plain": [
              "[10, 9, 5, 4, 3, 2, 1]"
            ]
          },
          "metadata": {},
          "execution_count": 74
        }
      ]
    },
    {
      "cell_type": "markdown",
      "source": [
        "98"
      ],
      "metadata": {
        "id": "THjYmEtAPQhn"
      }
    },
    {
      "cell_type": "code",
      "source": [
        "icecream = {'탱크보이': 1200, '폴라포': 1200, '빵빠레': 1800, '월드콘': 1500, '메로나': 1000}\n",
        "new_product = {'팥빙수':2700, '아맛나':1000}\n",
        "\n",
        "icecream.update(new_product)\n",
        "icecream"
      ],
      "metadata": {
        "colab": {
          "base_uri": "https://localhost:8080/"
        },
        "id": "Mi9451aCO3FE",
        "outputId": "5eb02983-b167-49f2-a891-cb9c37fc19e5"
      },
      "execution_count": null,
      "outputs": [
        {
          "output_type": "execute_result",
          "data": {
            "text/plain": [
              "{'탱크보이': 1200,\n",
              " '폴라포': 1200,\n",
              " '빵빠레': 1800,\n",
              " '월드콘': 1500,\n",
              " '메로나': 1000,\n",
              " '팥빙수': 2700,\n",
              " '아맛나': 1000}"
            ]
          },
          "metadata": {},
          "execution_count": 77
        }
      ]
    },
    {
      "cell_type": "code",
      "source": [
        "keys = (\"apple\", \"pear\", \"peach\")\n",
        "vals = (300, 250, 400)\n",
        "dic = zip(keys,vals)\n",
        "dic = dict(dic)\n",
        "dic"
      ],
      "metadata": {
        "colab": {
          "base_uri": "https://localhost:8080/"
        },
        "id": "o2R5csMVPXdM",
        "outputId": "7c8c7ea8-3de6-425a-f2db-8441e2403809"
      },
      "execution_count": null,
      "outputs": [
        {
          "output_type": "execute_result",
          "data": {
            "text/plain": [
              "{'apple': 300, 'pear': 250, 'peach': 400}"
            ]
          },
          "metadata": {},
          "execution_count": 86
        }
      ]
    },
    {
      "cell_type": "code",
      "source": [
        "date = ['09/05', '09/06', '09/07', '09/08', '09/09']\n",
        "close_price = [10500, 10300, 10100, 10800, 11000]\n",
        "close_table = dict(zip(date, close_price))\n",
        "close_table\n",
        "\n",
        "# zip에서 두 리스트/튜플 등의 길이가 다를때 : 짧은것에 맞춤."
      ],
      "metadata": {
        "colab": {
          "base_uri": "https://localhost:8080/"
        },
        "id": "4ga68wKoPljE",
        "outputId": "cc1767d3-eaae-412d-fa0b-aaad3fa4bb94"
      },
      "execution_count": null,
      "outputs": [
        {
          "output_type": "execute_result",
          "data": {
            "text/plain": [
              "{'09/05': 10500,\n",
              " '09/06': 10300,\n",
              " '09/07': 10100,\n",
              " '09/08': 10800,\n",
              " '09/09': 11000}"
            ]
          },
          "metadata": {},
          "execution_count": 90
        }
      ]
    },
    {
      "cell_type": "markdown",
      "source": [
        "114"
      ],
      "metadata": {
        "id": "Vppc7grqX5Sc"
      }
    },
    {
      "cell_type": "code",
      "source": [
        "num = int(input(\"입력값 : \"))\n",
        "if num + 20 > 255:\n",
        "    print(\"출력값 : 255\")\n",
        "else:\n",
        "    print(f\"출력값 : {num+20}\")"
      ],
      "metadata": {
        "colab": {
          "base_uri": "https://localhost:8080/"
        },
        "id": "OS5N35MWQKH_",
        "outputId": "fea3b506-7418-4233-b6de-d860f8def5ed"
      },
      "execution_count": null,
      "outputs": [
        {
          "output_type": "stream",
          "name": "stdout",
          "text": [
            "입력값 : 234\n",
            "출력값 : 254\n"
          ]
        }
      ]
    },
    {
      "cell_type": "markdown",
      "source": [
        "118"
      ],
      "metadata": {
        "id": "qWD-mQuAYqK5"
      }
    },
    {
      "cell_type": "code",
      "source": [
        "warn_investment_list = [\"Microsoft\", \"Google\", \"Naver\", \"Kakao\", \"SAMSUNG\", \"LG\"]\n",
        "종목명 = input(\"종목명:\")\n",
        "if 종목명 in warn_investment_list:\n",
        "    print(\"투자 경고 종목입니다.\")\n",
        "else:\n",
        "    print(\"투자 경고 종목이 아닙니다.\")"
      ],
      "metadata": {
        "colab": {
          "base_uri": "https://localhost:8080/"
        },
        "id": "F43JcgLCXF5C",
        "outputId": "e1da6506-59b4-42d5-99e6-ef00527c2084"
      },
      "execution_count": null,
      "outputs": [
        {
          "output_type": "stream",
          "name": "stdout",
          "text": [
            "종목명:SAMSUNG\n",
            "투자 경고 종목입니다.\n"
          ]
        }
      ]
    },
    {
      "cell_type": "code",
      "source": [],
      "metadata": {
        "id": "acRhtjoOZHR_"
      },
      "execution_count": null,
      "outputs": []
    },
    {
      "cell_type": "markdown",
      "source": [
        "119, 120\n"
      ],
      "metadata": {
        "id": "OCfeESe4ZD8q"
      }
    },
    {
      "cell_type": "code",
      "source": [
        "fruit = {\"봄\" : \"딸기\", \"여름\" : \"토마토\", \"가을\" : \"사과\"}\n",
        "\n",
        "계절 = input(\"좋아하는 계절은?\")\n",
        "과일 = input(\"좋아하는 과일은?\")\n",
        "\n",
        "if 계절 in fruit.keys():\n",
        "    print(\"정답입니다.\")\n",
        "else:\n",
        "    print(\"오답입니다.\")\n",
        "\n",
        "if 과일 in fruit.values():\n",
        "    print(\"정답입니다.\")\n",
        "else:\n",
        "    print(\"오답입니다.\")"
      ],
      "metadata": {
        "colab": {
          "base_uri": "https://localhost:8080/"
        },
        "id": "qoMkYdNsYf8A",
        "outputId": "bd4a10e4-07a8-44d9-b70e-0d7e03842890"
      },
      "execution_count": null,
      "outputs": [
        {
          "output_type": "stream",
          "name": "stdout",
          "text": [
            "좋아하는 계절은?겨울\n",
            "좋아하는 과일은?사과\n",
            "오답입니다.\n",
            "정답입니다.\n"
          ]
        }
      ]
    },
    {
      "cell_type": "code",
      "source": [
        "user = input()\n",
        "if user.islower() == 1:\n",
        "    print(user.upper())\n",
        "else:\n",
        "    print(user.lower())"
      ],
      "metadata": {
        "colab": {
          "base_uri": "https://localhost:8080/"
        },
        "id": "PF9mI4hPY9z6",
        "outputId": "74bd677e-ea01-4f1f-89a9-8ed23740dae3"
      },
      "execution_count": null,
      "outputs": [
        {
          "output_type": "stream",
          "name": "stdout",
          "text": [
            "A\n",
            "a\n"
          ]
        }
      ]
    },
    {
      "cell_type": "code",
      "source": [
        "score = int(input())\n",
        "if 80 < score <= 100:\n",
        "    print(\"grade is A\")\n",
        "elif 60 < score <= 80:\n",
        "    print('grade is B')\n",
        "elif 40 < score <= 60:\n",
        "    print('grade is C')\n",
        "elif 20 < score <= 40:\n",
        "    print('grade is D')\n",
        "elif 0 < score <= 20:\n",
        "    print('grade is E')\n",
        "else:\n",
        "    raise ValueError"
      ],
      "metadata": {
        "colab": {
          "base_uri": "https://localhost:8080/",
          "height": 227
        },
        "id": "sHrwCNskZxYK",
        "outputId": "7f0b2ade-3606-40c4-988b-1402154ab2dd"
      },
      "execution_count": null,
      "outputs": [
        {
          "name": "stdout",
          "output_type": "stream",
          "text": [
            "-2\n"
          ]
        },
        {
          "output_type": "error",
          "ename": "ValueError",
          "evalue": "ignored",
          "traceback": [
            "\u001b[0;31m---------------------------------------------------------------------------\u001b[0m",
            "\u001b[0;31mValueError\u001b[0m                                Traceback (most recent call last)",
            "\u001b[0;32m<ipython-input-121-dba617aea799>\u001b[0m in \u001b[0;36m<module>\u001b[0;34m\u001b[0m\n\u001b[1;32m     11\u001b[0m     \u001b[0mprint\u001b[0m\u001b[0;34m(\u001b[0m\u001b[0;34m'grade is E'\u001b[0m\u001b[0;34m)\u001b[0m\u001b[0;34m\u001b[0m\u001b[0;34m\u001b[0m\u001b[0m\n\u001b[1;32m     12\u001b[0m \u001b[0;32melse\u001b[0m\u001b[0;34m:\u001b[0m\u001b[0;34m\u001b[0m\u001b[0;34m\u001b[0m\u001b[0m\n\u001b[0;32m---> 13\u001b[0;31m     \u001b[0;32mraise\u001b[0m \u001b[0mValueError\u001b[0m\u001b[0;34m\u001b[0m\u001b[0;34m\u001b[0m\u001b[0m\n\u001b[0m",
            "\u001b[0;31mValueError\u001b[0m: "
          ]
        }
      ]
    },
    {
      "cell_type": "code",
      "source": [
        "money_value = int(input(\"금액의 숫자를 입력하세요 : \"))\n",
        "currency = str(input(\"입력 : {} \".format(money_value)))\n",
        "\n",
        "if currency == '달러':\n",
        "    print(money_value * 1167, \"원\")\n",
        "if currency == '유로':\n",
        "    print(money_value * 1268 ,\"원\")\n",
        "if currency == '엔':\n",
        "    print(money_value * 1.096 ,\"원\")\n",
        "if currency == '위안':\n",
        "    print(money_value * 171 ,\"원\")    \n",
        "\n",
        "# 문자열과 숫자열을 동시에 쓸 때는 +와 같은 문자를 쓸 수 없다.\n",
        "## (형태가 같아야 함)"
      ],
      "metadata": {
        "colab": {
          "base_uri": "https://localhost:8080/"
        },
        "id": "UfiaMtdzdJV0",
        "outputId": "740803ed-de79-4e70-ffbf-e5cf5139cf2d"
      },
      "execution_count": null,
      "outputs": [
        {
          "output_type": "stream",
          "name": "stdout",
          "text": [
            "(금액을 입력하세요)4\n",
            "입력 : 4 달러\n",
            "4668 원\n"
          ]
        }
      ]
    },
    {
      "cell_type": "code",
      "source": [
        "number1=input('첫 번째 숫자를 입력하세요 : ')\n",
        "number2=input('두 번째 숫자를 입력하세요 : ')\n",
        "number3=input('세 번째 숫자를 입력하세요 : ')\n",
        "\n",
        "numbers = [number1, number2, number3]\n",
        "for i in range(len(numbers)):\n",
        "    maxnum = max(numbers)\n",
        "print(maxnum)"
      ],
      "metadata": {
        "colab": {
          "base_uri": "https://localhost:8080/"
        },
        "id": "qvTNYTM5edB4",
        "outputId": "f9a45b2a-aa9c-4f1a-d985-504ed1453e02"
      },
      "execution_count": null,
      "outputs": [
        {
          "output_type": "stream",
          "name": "stdout",
          "text": [
            "첫 번째 숫자를 입력하세요 : 2.4\n",
            "두 번째 숫자를 입력하세요 : 2.7\n",
            "세 번째 숫자를 입력하세요 : 2\n",
            "2.7\n"
          ]
        }
      ]
    },
    {
      "cell_type": "code",
      "source": [
        "phn = str(input(\"휴대전화 번호 입력 : \"))\n",
        "\n",
        "if phn[2] == '1':\n",
        "    print(\"당신은 SKT 사용자입니다.\")\n",
        "if phn[2] == '6':\n",
        "    print('당신은 KT 사용자입니다.')\n",
        "if phn[2] == '9':\n",
        "    print('당신은 LGU 사용자입니다.')\n",
        "if phn[2] == '0':\n",
        "    print('알수없음')"
      ],
      "metadata": {
        "colab": {
          "base_uri": "https://localhost:8080/"
        },
        "id": "_FPZDXnzlRaJ",
        "outputId": "5dbde51b-a87f-4b38-b451-df7789bfc440"
      },
      "execution_count": null,
      "outputs": [
        {
          "output_type": "stream",
          "name": "stdout",
          "text": [
            "휴대전화 번호 입력 : 010\n",
            "알수없음\n"
          ]
        }
      ]
    },
    {
      "cell_type": "markdown",
      "source": [
        "129"
      ],
      "metadata": {
        "id": "6kQtfKF5sfNE"
      }
    },
    {
      "cell_type": "code",
      "source": [
        "jumin = str(input('주민등록번호 : '))\n",
        "#\n",
        "def jumin_last(jumin):\n",
        "    for i in range(6):\n",
        "        global a\n",
        "        a += int(jumin[i])*(i+2)\n",
        "    for j in range(2):\n",
        "        global b\n",
        "        b += int(jumin[j+7])*(j+7)\n",
        "    for k in range(4):\n",
        "        global c\n",
        "        c += int(jumin[k+8])*(k+2)\n",
        "    jumin_last = (a+b+c)%11\n",
        "    return jumin_last\n",
        "\n",
        "if int(jumin[13]) == int(jumin_last(jumin)):\n",
        "    print(\"유효한 주민등록번호입니다.\")\n",
        "else:\n",
        "    print('유효하지 않은 주민등록번호입니다.')"
      ],
      "metadata": {
        "colab": {
          "base_uri": "https://localhost:8080/"
        },
        "id": "vsZnf1sPmxj1",
        "outputId": "217d6262-def0-480c-e3f9-f6a063a34537"
      },
      "execution_count": null,
      "outputs": [
        {
          "output_type": "stream",
          "name": "stdout",
          "text": [
            "주민등록번호 : 821010-1635214\n",
            "유효하지 않은 주민등록번호입니다.\n"
          ]
        }
      ]
    },
    {
      "cell_type": "code",
      "source": [],
      "metadata": {
        "colab": {
          "base_uri": "https://localhost:8080/",
          "height": 172
        },
        "id": "8Yo3DhXGniRo",
        "outputId": "068432a3-0f79-4280-ad3c-055db2f1aca6"
      },
      "execution_count": null,
      "outputs": [
        {
          "output_type": "error",
          "ename": "IndexError",
          "evalue": "ignored",
          "traceback": [
            "\u001b[0;31m---------------------------------------------------------------------------\u001b[0m",
            "\u001b[0;31mIndexError\u001b[0m                                Traceback (most recent call last)",
            "\u001b[0;32m<ipython-input-173-4176485edef8>\u001b[0m in \u001b[0;36m<module>\u001b[0;34m\u001b[0m\n\u001b[0;32m----> 1\u001b[0;31m \u001b[0mrange\u001b[0m\u001b[0;34m(\u001b[0m\u001b[0;36m6\u001b[0m\u001b[0;34m)\u001b[0m\u001b[0;34m[\u001b[0m\u001b[0;36m6\u001b[0m\u001b[0;34m]\u001b[0m\u001b[0;34m\u001b[0m\u001b[0;34m\u001b[0m\u001b[0m\n\u001b[0m",
            "\u001b[0;31mIndexError\u001b[0m: range object index out of range"
          ]
        }
      ]
    },
    {
      "cell_type": "markdown",
      "source": [
        "157"
      ],
      "metadata": {
        "id": "VbhrCP3swfD9"
      }
    },
    {
      "cell_type": "code",
      "source": [
        "리스트 = ['dog', 'cat', 'parrot']\n",
        "\n",
        "for i in range(len(리스트)):\n",
        "    print(리스트[i][0].upper() + 리스트[i][1:])"
      ],
      "metadata": {
        "colab": {
          "base_uri": "https://localhost:8080/"
        },
        "id": "TER6HyYGsAhA",
        "outputId": "37f6ccd4-d95f-4fc1-d50b-f0eba56fe808"
      },
      "execution_count": null,
      "outputs": [
        {
          "output_type": "stream",
          "name": "stdout",
          "text": [
            "Dog\n",
            "Cat\n",
            "Parrot\n"
          ]
        }
      ]
    },
    {
      "cell_type": "markdown",
      "source": [
        "158"
      ],
      "metadata": {
        "id": "RTskOBXQyUyu"
      }
    },
    {
      "cell_type": "code",
      "source": [
        "리스트 = ['hello.py', 'ex01.py', 'intro.hwp']\n",
        "\n",
        "for i in range(len(리스트)):\n",
        "    print(리스트[i].rsplit('.')[0])"
      ],
      "metadata": {
        "colab": {
          "base_uri": "https://localhost:8080/"
        },
        "id": "r37BIVKLwiHW",
        "outputId": "a6dc2ef0-da71-4c70-8b9b-a58154e76803"
      },
      "execution_count": null,
      "outputs": [
        {
          "output_type": "stream",
          "name": "stdout",
          "text": [
            "hello\n",
            "ex01\n",
            "intro\n"
          ]
        }
      ]
    },
    {
      "cell_type": "code",
      "source": [
        "리스트 = ['intra.h', 'intra.c', 'define.h', 'run.py']\n",
        "\n",
        "for i in range(len(리스트)):\n",
        "    if (리스트[i].split('.')[1] == 'h') or (리스트[i].split('.')[1] == 'c'):\n",
        "        print(리스트[i])\n",
        "    else:\n",
        "        continue"
      ],
      "metadata": {
        "colab": {
          "base_uri": "https://localhost:8080/"
        },
        "id": "2D7XnVkkybUh",
        "outputId": "a3c905ff-931a-48ea-8e77-78992fb7c412"
      },
      "execution_count": null,
      "outputs": [
        {
          "output_type": "stream",
          "name": "stdout",
          "text": [
            "intra.h\n",
            "intra.c\n",
            "define.h\n"
          ]
        }
      ]
    },
    {
      "cell_type": "code",
      "source": [
        "summ = 0\n",
        "for i in range(11):\n",
        "    summ += i\n",
        "print(f\"합 : {summ}\")\n",
        "\n",
        "# a =+ b (양수 b) / a += b (누적합). 순서 중요함."
      ],
      "metadata": {
        "colab": {
          "base_uri": "https://localhost:8080/"
        },
        "id": "yAS-_VJjzhrB",
        "outputId": "9938692a-6fb2-4649-f19a-fdc90dafaea0"
      },
      "execution_count": null,
      "outputs": [
        {
          "output_type": "stream",
          "name": "stdout",
          "text": [
            "합 : 55\n"
          ]
        }
      ]
    },
    {
      "cell_type": "markdown",
      "source": [
        "171-173"
      ],
      "metadata": {
        "id": "59sWvCX91Y8O"
      }
    },
    {
      "cell_type": "code",
      "source": [
        "price_list = [32100, 32150, 32000, 32500]\n",
        "for i in range(len(price_list)):\n",
        "    print(len(price_list)-(i+1),price_list[i])"
      ],
      "metadata": {
        "colab": {
          "base_uri": "https://localhost:8080/"
        },
        "id": "hif8Yo6k0pQQ",
        "outputId": "d4ebfbbb-f27e-4083-a82c-e34977903b59"
      },
      "execution_count": null,
      "outputs": [
        {
          "output_type": "stream",
          "name": "stdout",
          "text": [
            "3 32100\n",
            "2 32150\n",
            "1 32000\n",
            "0 32500\n"
          ]
        }
      ]
    },
    {
      "cell_type": "code",
      "source": [
        "price_list = [32100, 32150, 32000, 32500]\n",
        "for i in range(len(price_list)-1):\n",
        "    print(100+10*i, price_list[i+1])"
      ],
      "metadata": {
        "colab": {
          "base_uri": "https://localhost:8080/"
        },
        "id": "tcY85Txk1ges",
        "outputId": "a7f6a278-e898-4bcf-9aa7-e8ed7e48fa42"
      },
      "execution_count": null,
      "outputs": [
        {
          "output_type": "stream",
          "name": "stdout",
          "text": [
            "100 32150\n",
            "110 32000\n",
            "120 32500\n"
          ]
        }
      ]
    },
    {
      "cell_type": "markdown",
      "source": [
        "180"
      ],
      "metadata": {
        "id": "BgC3VPhi2DYG"
      }
    },
    {
      "cell_type": "code",
      "source": [
        "volatility = []\n",
        "low_prices  = [100, 200, 400, 800, 1000]\n",
        "high_prices = [150, 300, 430, 880, 1000]\n",
        "\n",
        "for i in range(len(low_prices)):\n",
        "    volatility.append(high_prices[i] - low_prices[i])\n",
        "    \n",
        "volatility\n"
      ],
      "metadata": {
        "colab": {
          "base_uri": "https://localhost:8080/"
        },
        "id": "G2UFhryF19p2",
        "outputId": "a7ea40d3-40a6-48b1-a0e5-508bfc423fce"
      },
      "execution_count": null,
      "outputs": [
        {
          "output_type": "execute_result",
          "data": {
            "text/plain": [
              "[50, 100, 30, 80, 0]"
            ]
          },
          "metadata": {},
          "execution_count": 316
        }
      ]
    },
    {
      "cell_type": "markdown",
      "source": [
        "184"
      ],
      "metadata": {
        "id": "r6pj1zMaGX8o"
      }
    },
    {
      "cell_type": "code",
      "source": [
        "stock = {'10/10' : [80,110,70,90], '10/11' : [210,230,190,200]}\n",
        "stock"
      ],
      "metadata": {
        "colab": {
          "base_uri": "https://localhost:8080/"
        },
        "id": "W8h36Hqr2f_f",
        "outputId": "96d29faf-97f4-4200-be87-307f002d6890"
      },
      "execution_count": null,
      "outputs": [
        {
          "output_type": "execute_result",
          "data": {
            "text/plain": [
              "{'10/10': [80, 110, 70, 90], '10/11': [210, 230, 190, 200]}"
            ]
          },
          "metadata": {},
          "execution_count": 253
        }
      ]
    },
    {
      "cell_type": "markdown",
      "source": [
        "185"
      ],
      "metadata": {
        "id": "zMlogw16ICTZ"
      }
    },
    {
      "cell_type": "code",
      "source": [
        "apart = [ [101, 102], [201, 202], [301, 302] ]\n",
        "for i in range(3):\n",
        "    for j in range(2):\n",
        "        print(apart[i][j], '호')\n",
        "\n",
        "# 아래의 for문도 똑같이 작동한다. 왜지?\n",
        "#for i in apart: apart라는 리스트의 i번째 성분(내부 리스트)\n",
        "#    for j in i: i(번째 내부 리스트)의 j번째 성분\n",
        "#        print(j, '호')\n",
        "\n",
        "# [i, j for j in i in apart, print(j,'호')]"
      ],
      "metadata": {
        "colab": {
          "base_uri": "https://localhost:8080/",
          "height": 136
        },
        "id": "mIeguTgbGsZA",
        "outputId": "0a041ef1-0e02-400d-ce1d-a0b300aa27ae"
      },
      "execution_count": null,
      "outputs": [
        {
          "output_type": "error",
          "ename": "SyntaxError",
          "evalue": "ignored",
          "traceback": [
            "\u001b[0;36m  File \u001b[0;32m\"<ipython-input-264-2a5ff705658a>\"\u001b[0;36m, line \u001b[0;32m11\u001b[0m\n\u001b[0;31m    [i, j for j in i in apart, print(j,'호')]\u001b[0m\n\u001b[0m            ^\u001b[0m\n\u001b[0;31mSyntaxError\u001b[0m\u001b[0;31m:\u001b[0m invalid syntax\n"
          ]
        }
      ]
    },
    {
      "cell_type": "code",
      "source": [
        "apart = [ [101, 102], [201, 202], [301, 302] ]\n",
        "for i in apart[::-1]:\n",
        "    for j in i[::-1]:\n",
        "        print(j, '호')"
      ],
      "metadata": {
        "colab": {
          "base_uri": "https://localhost:8080/"
        },
        "id": "99iniiBGG6WU",
        "outputId": "781a5292-016a-4e0e-88be-48956e023779"
      },
      "execution_count": null,
      "outputs": [
        {
          "output_type": "stream",
          "name": "stdout",
          "text": [
            "302 호\n",
            "301 호\n",
            "202 호\n",
            "201 호\n",
            "102 호\n",
            "101 호\n"
          ]
        }
      ]
    },
    {
      "cell_type": "code",
      "source": [
        "apart = [ [101, 102], [201, 202], [301, 302] ]\n",
        "for i in apart:\n",
        "    for j in i:\n",
        "        print(j, '호')\n",
        "print('-----')"
      ],
      "metadata": {
        "colab": {
          "base_uri": "https://localhost:8080/"
        },
        "id": "PYCbXL4uI4LS",
        "outputId": "b1ddd2e7-bcec-41f5-84a4-ee21a8d02892"
      },
      "execution_count": null,
      "outputs": [
        {
          "output_type": "stream",
          "name": "stdout",
          "text": [
            "101 호\n",
            "102 호\n",
            "201 호\n",
            "202 호\n",
            "301 호\n",
            "302 호\n",
            "-----\n"
          ]
        }
      ]
    },
    {
      "cell_type": "markdown",
      "source": [
        "191-194"
      ],
      "metadata": {
        "id": "NUn9H8pJMJ6y"
      }
    },
    {
      "cell_type": "code",
      "source": [
        "data = [\n",
        "    [ 2000,  3050,  2050,  1980],\n",
        "    [ 7500,  2050,  2050,  1980],\n",
        "    [15450, 15050, 15550, 14900]\n",
        "]\n",
        "result = []\n",
        "for i in data:\n",
        "    row = []\n",
        "    result.append(i)\n",
        "    for j in i:\n",
        "        row.append(j*(1+1.4e-4))\n",
        "    #print('-'*4)\n",
        "result"
      ],
      "metadata": {
        "colab": {
          "base_uri": "https://localhost:8080/"
        },
        "id": "ohUeBa__JafA",
        "outputId": "c681aa2d-783d-4418-9ce0-062c6794a4af"
      },
      "execution_count": null,
      "outputs": [
        {
          "output_type": "execute_result",
          "data": {
            "text/plain": [
              "[[2000, 3050, 2050, 1980],\n",
              " [7500, 2050, 2050, 1980],\n",
              " [15450, 15050, 15550, 14900]]"
            ]
          },
          "metadata": {},
          "execution_count": 296
        }
      ]
    },
    {
      "cell_type": "code",
      "source": [
        "ohlc = [[\"open\", \"high\", \"low\", \"close\"],\n",
        "        [100, 110, 70, 100],\n",
        "        [200, 210, 180, 190],\n",
        "        [300, 310, 300, 310]]\n",
        "\n",
        "for i in range(len(ohlc[1:])):\n",
        "    if ohlc[i+1][3] >= ohlc[i+1][0]:\n",
        "        print(ohlc[i+1][3])"
      ],
      "metadata": {
        "colab": {
          "base_uri": "https://localhost:8080/"
        },
        "id": "_ymy8e6TMsBU",
        "outputId": "7a8713a1-d39e-4281-bf69-de1267175bbf"
      },
      "execution_count": null,
      "outputs": [
        {
          "output_type": "stream",
          "name": "stdout",
          "text": [
            "100\n",
            "310\n"
          ]
        }
      ]
    },
    {
      "cell_type": "code",
      "source": [
        "ohlc = [[\"open\", \"high\", \"low\", \"close\"],\n",
        "        [100, 110, 70, 100],\n",
        "        [200, 210, 180, 190],\n",
        "        [300, 310, 300, 310]]\n",
        "\n",
        "volatility = []\n",
        "for i in range(len(ohlc[1:])):\n",
        "    volatility.append(ohlc[i+1][1]-ohlc[i+1][2])\n",
        "    if ohlc[i+1][3] > ohlc[i+1][0]:\n",
        "        print(volatility[i])"
      ],
      "metadata": {
        "colab": {
          "base_uri": "https://localhost:8080/"
        },
        "id": "_FPJITDoSag4",
        "outputId": "653d9929-6981-4c17-ea8b-bd139491e604"
      },
      "execution_count": null,
      "outputs": [
        {
          "output_type": "stream",
          "name": "stdout",
          "text": [
            "10\n"
          ]
        }
      ]
    },
    {
      "cell_type": "code",
      "source": [
        "ohlc = [[\"open\", \"high\", \"low\", \"close\"],\n",
        "        [100, 110, 70, 100],\n",
        "        [200, 210, 180, 190],\n",
        "        [300, 310, 300, 310]]\n",
        "# benefit = []\n",
        "benefit=0\n",
        "for i in range(len(ohlc[1:])):\n",
        "    # benefit.append(ohlc[i+1][3] - ohlc[i+1][0])\n",
        "    benefit += (ohlc[i+1][3] - ohlc[i+1][0])\n",
        "benefit"
      ],
      "metadata": {
        "colab": {
          "base_uri": "https://localhost:8080/"
        },
        "id": "9mWaJOgXT0rm",
        "outputId": "d776f068-e55b-41bb-a9ac-678299e9c8dc"
      },
      "execution_count": null,
      "outputs": [
        {
          "output_type": "execute_result",
          "data": {
            "text/plain": [
              "0"
            ]
          },
          "metadata": {},
          "execution_count": 321
        }
      ]
    },
    {
      "cell_type": "markdown",
      "source": [
        "201"
      ],
      "metadata": {
        "id": "XTTz8sLoV1II"
      }
    },
    {
      "cell_type": "code",
      "source": [
        "def print_coin():\n",
        "    return '비트코인'"
      ],
      "metadata": {
        "id": "ZUxItxE7VUOV"
      },
      "execution_count": null,
      "outputs": []
    },
    {
      "cell_type": "code",
      "source": [
        "print_coin()"
      ],
      "metadata": {
        "colab": {
          "base_uri": "https://localhost:8080/",
          "height": 35
        },
        "id": "qvXr2E_9WACI",
        "outputId": "3c4e8d1d-50fe-4084-bee6-204915ccea06"
      },
      "execution_count": null,
      "outputs": [
        {
          "output_type": "execute_result",
          "data": {
            "text/plain": [
              "'비트코인'"
            ],
            "application/vnd.google.colaboratory.intrinsic+json": {
              "type": "string"
            }
          },
          "metadata": {},
          "execution_count": 323
        }
      ]
    },
    {
      "cell_type": "code",
      "source": [
        "for i in range(100):\n",
        "    print_coin()"
      ],
      "metadata": {
        "id": "VaavVtIOWBzi"
      },
      "execution_count": null,
      "outputs": []
    },
    {
      "cell_type": "code",
      "source": [
        "def print_coins():\n",
        "    for i in range(100):\n",
        "        print('비트코인')\n",
        "    return"
      ],
      "metadata": {
        "id": "IKd3BwABWKUY"
      },
      "execution_count": null,
      "outputs": []
    },
    {
      "cell_type": "code",
      "source": [
        "# hello()\n",
        "#def hello():\n",
        "#    print(\"Hi\")\n",
        "# 함수가 정의되기 전에 사용함. 즉, 정의되지 않은 함수를 호출하였기 때문."
      ],
      "metadata": {
        "id": "0VsyJI1ZWacu"
      },
      "execution_count": null,
      "outputs": []
    },
    {
      "cell_type": "code",
      "source": [
        "def message1():\n",
        "    print(\"A\")\n",
        "\n",
        "def message2():\n",
        "    print(\"B\")\n",
        "    message1() \n",
        "# message2() 함수 안에 message1() 함수가 들어가서 작동(A가 나온다.)\n",
        "\n",
        "message2()"
      ],
      "metadata": {
        "colab": {
          "base_uri": "https://localhost:8080/"
        },
        "id": "WcsYwC9tWvaW",
        "outputId": "ec7dc75c-1de6-4de3-8054-4dbe55278260"
      },
      "execution_count": null,
      "outputs": [
        {
          "output_type": "stream",
          "name": "stdout",
          "text": [
            "B\n",
            "A\n"
          ]
        }
      ]
    },
    {
      "cell_type": "code",
      "source": [
        "def 함수(a, b) :\n",
        "    print(a + b)\n",
        "\n",
        "# 함수(\"안녕\", 3) 정답지의 에러메시지가 틀림.."
      ],
      "metadata": {
        "colab": {
          "base_uri": "https://localhost:8080/",
          "height": 318
        },
        "id": "UeK5HRBkXH8Y",
        "outputId": "81bcd759-0a9b-4d94-a6ed-487d2a6d24a4"
      },
      "execution_count": null,
      "outputs": [
        {
          "output_type": "error",
          "ename": "TypeError",
          "evalue": "ignored",
          "traceback": [
            "\u001b[0;31m---------------------------------------------------------------------------\u001b[0m",
            "\u001b[0;31mTypeError\u001b[0m                                 Traceback (most recent call last)",
            "\u001b[0;32m<ipython-input-335-fc1d6d40d8f3>\u001b[0m in \u001b[0;36m<module>\u001b[0;34m\u001b[0m\n\u001b[1;32m      2\u001b[0m     \u001b[0mprint\u001b[0m\u001b[0;34m(\u001b[0m\u001b[0ma\u001b[0m \u001b[0;34m+\u001b[0m \u001b[0mb\u001b[0m\u001b[0;34m)\u001b[0m\u001b[0;34m\u001b[0m\u001b[0;34m\u001b[0m\u001b[0m\n\u001b[1;32m      3\u001b[0m \u001b[0;34m\u001b[0m\u001b[0m\n\u001b[0;32m----> 4\u001b[0;31m \u001b[0m함수\u001b[0m\u001b[0;34m(\u001b[0m\u001b[0;34m\"안녕\"\u001b[0m\u001b[0;34m,\u001b[0m \u001b[0;36m3\u001b[0m\u001b[0;34m)\u001b[0m\u001b[0;34m\u001b[0m\u001b[0;34m\u001b[0m\u001b[0m\n\u001b[0m",
            "\u001b[0;32m<ipython-input-335-fc1d6d40d8f3>\u001b[0m in \u001b[0;36m함수\u001b[0;34m(a, b)\u001b[0m\n\u001b[1;32m      1\u001b[0m \u001b[0;32mdef\u001b[0m \u001b[0m함수\u001b[0m\u001b[0;34m(\u001b[0m\u001b[0ma\u001b[0m\u001b[0;34m,\u001b[0m \u001b[0mb\u001b[0m\u001b[0;34m)\u001b[0m \u001b[0;34m:\u001b[0m\u001b[0;34m\u001b[0m\u001b[0;34m\u001b[0m\u001b[0m\n\u001b[0;32m----> 2\u001b[0;31m     \u001b[0mprint\u001b[0m\u001b[0;34m(\u001b[0m\u001b[0ma\u001b[0m \u001b[0;34m+\u001b[0m \u001b[0mb\u001b[0m\u001b[0;34m)\u001b[0m\u001b[0;34m\u001b[0m\u001b[0;34m\u001b[0m\u001b[0m\n\u001b[0m\u001b[1;32m      3\u001b[0m \u001b[0;34m\u001b[0m\u001b[0m\n\u001b[1;32m      4\u001b[0m \u001b[0m함수\u001b[0m\u001b[0;34m(\u001b[0m\u001b[0;34m\"안녕\"\u001b[0m\u001b[0;34m,\u001b[0m \u001b[0;36m3\u001b[0m\u001b[0;34m)\u001b[0m\u001b[0;34m\u001b[0m\u001b[0;34m\u001b[0m\u001b[0m\n",
            "\u001b[0;31mTypeError\u001b[0m: can only concatenate str (not \"int\") to str"
          ]
        }
      ]
    },
    {
      "cell_type": "code",
      "source": [
        "def print_with_smile(문자열):\n",
        "    return 문자열+':D'"
      ],
      "metadata": {
        "id": "Sgi8IRqGXqfQ"
      },
      "execution_count": null,
      "outputs": []
    },
    {
      "cell_type": "code",
      "source": [
        "print_with_smile('안녕하세요')"
      ],
      "metadata": {
        "colab": {
          "base_uri": "https://localhost:8080/",
          "height": 35
        },
        "id": "SEYdgD50YU9O",
        "outputId": "650122f1-2656-4ef2-e894-a4e36bf04da9"
      },
      "execution_count": null,
      "outputs": [
        {
          "output_type": "execute_result",
          "data": {
            "text/plain": [
              "'안녕하세요:D'"
            ],
            "application/vnd.google.colaboratory.intrinsic+json": {
              "type": "string"
            }
          },
          "metadata": {},
          "execution_count": 339
        }
      ]
    },
    {
      "cell_type": "code",
      "source": [
        "def print_upper_price(price):\n",
        "    return price*1.3"
      ],
      "metadata": {
        "id": "dEhQCSULYelG"
      },
      "execution_count": null,
      "outputs": []
    },
    {
      "cell_type": "code",
      "source": [
        "def print_sum(a, b):\n",
        "    return a+b"
      ],
      "metadata": {
        "id": "gJjodQYNYpvz"
      },
      "execution_count": null,
      "outputs": []
    },
    {
      "cell_type": "code",
      "source": [
        "def print_arithmetic_operation(a, b):\n",
        "    return a+b, a-b, a*b, a/b"
      ],
      "metadata": {
        "id": "qFStrUTiYsI2"
      },
      "execution_count": null,
      "outputs": []
    },
    {
      "cell_type": "code",
      "source": [
        "def print_max(a,b,c):\n",
        "    if a>b>c or a>c>b:\n",
        "        print(a)\n",
        "    elif a<b and b>c:\n",
        "        print(b)\n",
        "    else:\n",
        "        print(c)"
      ],
      "metadata": {
        "id": "2l0Q7kFceCSa"
      },
      "execution_count": null,
      "outputs": []
    },
    {
      "cell_type": "code",
      "source": [
        "print_max(-3, -2, -1)"
      ],
      "metadata": {
        "colab": {
          "base_uri": "https://localhost:8080/"
        },
        "id": "nxuAMljPeDiV",
        "outputId": "bfebf308-2567-49cb-a987-66d709175717"
      },
      "execution_count": null,
      "outputs": [
        {
          "output_type": "stream",
          "name": "stdout",
          "text": [
            "-1\n"
          ]
        }
      ]
    },
    {
      "cell_type": "code",
      "source": [],
      "metadata": {
        "id": "aX0yZuuNtwcS"
      },
      "execution_count": null,
      "outputs": []
    },
    {
      "cell_type": "markdown",
      "source": [
        "221"
      ],
      "metadata": {
        "id": "Wz4ueDkefi0m"
      }
    },
    {
      "cell_type": "code",
      "source": [],
      "metadata": {
        "id": "Ztn_6TZ4sOQV"
      },
      "execution_count": null,
      "outputs": []
    },
    {
      "cell_type": "code",
      "source": [],
      "metadata": {
        "colab": {
          "base_uri": "https://localhost:8080/"
        },
        "id": "yFCWprG0tL1l",
        "outputId": "c2df01b9-6f3c-415d-8bde-aafe7ef274e3"
      },
      "execution_count": null,
      "outputs": [
        {
          "output_type": "execute_result",
          "data": {
            "text/plain": [
              "11"
            ]
          },
          "metadata": {},
          "execution_count": 374
        }
      ]
    },
    {
      "cell_type": "code",
      "source": [],
      "metadata": {
        "id": "DrDwCs4ztOSo"
      },
      "execution_count": null,
      "outputs": []
    }
  ]
}